{
  "nbformat": 4,
  "nbformat_minor": 0,
  "metadata": {
    "colab": {
      "name": "KialoProject.ipynb",
      "provenance": [],
      "collapsed_sections": [],
      "authorship_tag": "ABX9TyO2US51MK1NkPcxwY2/5goO",
      "include_colab_link": true
    },
    "kernelspec": {
      "name": "python3",
      "display_name": "Python 3"
    },
    "language_info": {
      "name": "python"
    }
  },
  "cells": [
    {
      "cell_type": "markdown",
      "metadata": {
        "id": "view-in-github",
        "colab_type": "text"
      },
      "source": [
        "<a href=\"https://colab.research.google.com/github/LeoLelli/AI_KialoProject/blob/main/KialoProject.ipynb\" target=\"_parent\"><img src=\"https://colab.research.google.com/assets/colab-badge.svg\" alt=\"Open In Colab\"/></a>"
      ]
    },
    {
      "cell_type": "markdown",
      "metadata": {
        "id": "PO2dpTXlKjiU"
      },
      "source": [
        "# Kialo Project"
      ]
    },
    {
      "cell_type": "markdown",
      "metadata": {
        "id": "H0JgD6atKZ2r"
      },
      "source": [
        "**Goal**: to help a user to join a Kialo discussion\n",
        "\n",
        "**Approach**: analyze all comments and provide the user with the one with the highest semantic similarity to the user's comment"
      ]
    },
    {
      "cell_type": "markdown",
      "metadata": {
        "id": "_j0j6-nZLQn7"
      },
      "source": [
        "I use a transformer to do embedding of comments and then cosin similarity to calculate their similarity score. The similarity score indicates whether two texts have similar or more different meanings. "
      ]
    },
    {
      "cell_type": "code",
      "metadata": {
        "id": "YCkA3QaCpFZh"
      },
      "source": [
        "#!pip install sentence-transformers\n",
        "#import\n",
        "import re\n",
        "import sys\n",
        "from sentence_transformers import SentenceTransformer, util\n",
        "import numpy as np\n",
        " \n",
        "%matplotlib inline\n",
        "input_file = \"ps5-v-xbox-series-xs-whats-better-48036.txt\"\n",
        "\n",
        "# pre-trained transformers: https://docs.google.com/spreadsheets/d/14QplCdTCDwEmTqrn1LH4yrbKvdogK4oQvYO1K1aPR5M/edit#gid=0\n",
        "model = SentenceTransformer('stsb-distilroberta-base-v2')"
      ],
      "execution_count": 13,
      "outputs": []
    },
    {
      "cell_type": "code",
      "metadata": {
        "id": "nMrG1igavISJ"
      },
      "source": [
        "class Comment:\n",
        "  def __init__(self, level, content, sentiment):\n",
        "    self.level = level\n",
        "    self.content = content\n",
        "    self.sentiment = sentiment\n",
        "\n",
        "  def __str__(self):\n",
        "        return self.level + \" \" + self.content +\" \"+ \"[\"+self.sentiment+\"]\"\n",
        "  \n",
        "  def setSimilarity(self, similarity):\n",
        "        self.similarity = similarity"
      ],
      "execution_count": 14,
      "outputs": []
    },
    {
      "cell_type": "code",
      "metadata": {
        "id": "gBqyAPMwrQPb"
      },
      "source": [
        "with open(input_file, 'r') as in_f:\n",
        "    lines = []\n",
        "    for line in in_f:\n",
        "        lines.append(line)\n",
        "\n",
        "title = lines[0];\n",
        "del lines[0:2]\n",
        "comments = []\n",
        "\n",
        "# split tree level from content\n",
        "for line in lines:\n",
        "  splitted_sentence = line.split('. ', 1)\n",
        "  level = splitted_sentence[0]\n",
        "  content = splitted_sentence[1]\n",
        "\n",
        "  # separate Pro or Con from the actual comment\n",
        "  sentiment = \"Neutral\"\n",
        "  if \"Pro:\" in content or \"Con: \" in content:\n",
        "    sentiment = content[0:3]\n",
        "    content = content[5:]\n",
        "\n",
        "  # delete links in the content\n",
        "  content = re.sub(r'http\\S+', '', content)\n",
        "  # delete () and []\n",
        "  content = content.replace('[','').replace(']','').replace('(','').replace(')','').replace('\\n',\"\")\n",
        "\n",
        "  c = Comment(level, content, sentiment)\n",
        "  comments.append(c)\n",
        "\n",
        "#print(comments[1])"
      ],
      "execution_count": 15,
      "outputs": []
    },
    {
      "cell_type": "markdown",
      "metadata": {
        "id": "0-D_bMqJMttT"
      },
      "source": [
        "Encoding of user comment and comments in discussion txt file + loop to calculate cos similarity"
      ]
    },
    {
      "cell_type": "code",
      "metadata": {
        "colab": {
          "base_uri": "https://localhost:8080/"
        },
        "id": "9JVvHoEEC6uU",
        "outputId": "da66c825-2d39-4265-e5c6-82a3f4bbd1e7"
      },
      "source": [
        "user_comment = \"The PS5 is better because it has many more games and is used by more people.\"\n",
        "embedding2 = model.encode(user_comment, convert_to_tensor=True)\n",
        "\n",
        "for c in comments:\n",
        "  embedding1 = model.encode(c.content, convert_to_tensor=True)\n",
        "  c.setSimilarity(util.pytorch_cos_sim(embedding1, embedding2).item())\n",
        "\n",
        "comments.sort(key=lambda x: x.similarity, reverse=True)\n",
        "\n",
        "print(\"You should answer to one of these comments:\")\n",
        "\n",
        "for i in range(3):\n",
        "    print(comments[i])\n",
        "\n",
        "#print(\"similarity\", comments[0].similarity)\n"
      ],
      "execution_count": 16,
      "outputs": [
        {
          "output_type": "stream",
          "text": [
            "You should answer to one of these comments:\n",
            "1.4 The PS5 has a better lineup of games that will be released in the future. [Con]\n",
            "1.3.1 The PS5 offers more exclusive games than the Series X/S. [Con]\n",
            "1.1.2 This might indicate that the PS5 is worth more since it is a better console. [Con]\n"
          ],
          "name": "stdout"
        }
      ]
    }
  ]
}