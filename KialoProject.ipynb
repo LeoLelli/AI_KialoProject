{
  "nbformat": 4,
  "nbformat_minor": 0,
  "metadata": {
    "colab": {
      "name": "KialoProject.ipynb",
      "provenance": [],
      "collapsed_sections": [],
      "authorship_tag": "ABX9TyPlef5i1yW2KoZKsS6ZAVLE",
      "include_colab_link": true
    },
    "kernelspec": {
      "name": "python3",
      "display_name": "Python 3"
    },
    "language_info": {
      "name": "python"
    }
  },
  "cells": [
    {
      "cell_type": "markdown",
      "metadata": {
        "id": "view-in-github",
        "colab_type": "text"
      },
      "source": [
        "<a href=\"https://colab.research.google.com/github/LeoLelli/AI_KialoProject/blob/main/KialoProject.ipynb\" target=\"_parent\"><img src=\"https://colab.research.google.com/assets/colab-badge.svg\" alt=\"Open In Colab\"/></a>"
      ]
    },
    {
      "cell_type": "markdown",
      "metadata": {
        "id": "PO2dpTXlKjiU"
      },
      "source": [
        "# **Kialo Project**\n",
        "\n",
        "---\n",
        "\n"
      ]
    },
    {
      "cell_type": "markdown",
      "metadata": {
        "id": "H0JgD6atKZ2r"
      },
      "source": [
        "**Goal**: to help a user to join a Kialo discussion\n",
        "\n",
        "**Approach**: analyze all comments and provide the user with the one with the highest semantic similarity to the user's comment"
      ]
    },
    {
      "cell_type": "markdown",
      "metadata": {
        "id": "_j0j6-nZLQn7"
      },
      "source": [
        "I use a transformer to do embedding of comments and then cosin similarity to calculate their similarity score. The similarity score indicates whether two texts have similar or more different meanings. "
      ]
    },
    {
      "cell_type": "code",
      "metadata": {
        "id": "YCkA3QaCpFZh"
      },
      "source": [
        "#!pip install sentence-transformers\n",
        "#import\n",
        "import re\n",
        "import sys\n",
        "import copy\n",
        "from sentence_transformers import SentenceTransformer, util\n",
        "import numpy as np\n",
        " \n",
        "%matplotlib inline\n",
        "input_file = \"ps5-v-xbox-series-xs-whats-better-48036.txt\"\n",
        "#input_file = \"are-video-learning-courses-a-good-learning-format-33565.txt\"\n",
        "#input_file = \"should-fake-news-be-illegal-35818.txt\"\n",
        "#input_file = \"should-we-have-a-single-global-language-9197.txt\"\n",
        "\n",
        "# pre-trained transformers: https://docs.google.com/spreadsheets/d/14QplCdTCDwEmTqrn1LH4yrbKvdogK4oQvYO1K1aPR5M/edit#gid=0\n",
        "model = SentenceTransformer('stsb-distilroberta-base-v2')"
      ],
      "execution_count": null,
      "outputs": []
    },
    {
      "cell_type": "code",
      "metadata": {
        "id": "nMrG1igavISJ"
      },
      "source": [
        "class Comment:\n",
        "  def __init__(self, level, content, sentiment):\n",
        "    self.level = level\n",
        "    self.content = content\n",
        "    self.sentiment = sentiment\n",
        "    self.similarity = 0\n",
        "\n",
        "  def __str__(self):\n",
        "        return self.level + \" \" + self.content + \" sim: \" + str(round(self.similarity, 3))\n",
        "  \n",
        "  def setSimilarity(self, similarity):\n",
        "        self.similarity = similarity\n",
        "\n",
        "  def __eq__(self, other):\n",
        "    if (isinstance(other, Comment)):\n",
        "      return self.level == other.level"
      ],
      "execution_count": 11,
      "outputs": []
    },
    {
      "cell_type": "code",
      "metadata": {
        "id": "gBqyAPMwrQPb"
      },
      "source": [
        "with open(input_file, 'r') as in_f:\n",
        "    lines = []\n",
        "    for line in in_f:\n",
        "        lines.append(line)\n",
        "\n",
        "title = lines[0];\n",
        "del lines[0:2]\n",
        "comments = []\n",
        "\n",
        "# split tree level from content\n",
        "for line in lines:\n",
        "  splitted_sentence = line.split('. ', 1)\n",
        "  level = splitted_sentence[0]\n",
        "  content = splitted_sentence[1]\n",
        "\n",
        "  # separate Pro or Con from the actual comment\n",
        "  sentiment = \"Neutral\"\n",
        "  if \"Pro:\" in content or \"Con: \" in content:\n",
        "    sentiment = content[0:3]\n",
        "    content = content[5:]\n",
        "\n",
        "  # delete links in the content\n",
        "  content = re.sub(r'http\\S+', '', content)\n",
        "  # delete () and []\n",
        "  content = content.replace('[','').replace(']','').replace('(','').replace(')','').replace('\\n',\"\")\n",
        "\n",
        "  c = Comment(level, content, sentiment)\n",
        "  comments.append(c)\n",
        "\n",
        "root = comments[0]"
      ],
      "execution_count": 12,
      "outputs": []
    },
    {
      "cell_type": "markdown",
      "metadata": {
        "id": "0-D_bMqJMttT"
      },
      "source": [
        "Encoding of user comment and comments in discussion txt file + loop to calculate cos similarity"
      ]
    },
    {
      "cell_type": "code",
      "metadata": {
        "colab": {
          "base_uri": "https://localhost:8080/"
        },
        "id": "9JVvHoEEC6uU",
        "outputId": "e01f9af0-0367-4545-ac5b-170025d3c4b6"
      },
      "source": [
        "user_comment = \"The PS5 is better because it has many more games and is used by more people.\"\n",
        "#user_comment = \"Online courses allows everyone to learn at their own pace and review lessons to better understand things.\"\n",
        "#user_comment = \"Fake news harms society because it negatively affects the uneducated people who fall for it.\"\n",
        "#user_comment = \"A single universal language would overcome many cultural barriers and interconnect many more people.\"\n",
        "embedding2 = model.encode(user_comment, convert_to_tensor=True)\n",
        "\n",
        "for c in comments:\n",
        "  embedding1 = model.encode(c.content, convert_to_tensor=True)\n",
        "  c.setSimilarity(util.pytorch_cos_sim(embedding1, embedding2).item())\n",
        "\n",
        "comments.sort(key=lambda x: x.similarity, reverse=True)\n",
        "\n",
        "k = 3 # number of comments to print\n",
        "print(\"You should answer to one of these comments:\\n\")\n",
        "\n",
        "for c in comments[:k]:\n",
        "  print(c, end=\"\\n\")\n"
      ],
      "execution_count": 13,
      "outputs": [
        {
          "output_type": "stream",
          "text": [
            "You should answer to one of these comments:\n",
            "\n",
            "1.4 The PS5 has a better lineup of games that will be released in the future. sim: 0.778\n",
            "1.3.1 The PS5 offers more exclusive games than the Series X/S. sim: 0.776\n",
            "1.1.2 This might indicate that the PS5 is worth more since it is a better console. sim: 0.752\n"
          ],
          "name": "stdout"
        }
      ]
    },
    {
      "cell_type": "markdown",
      "metadata": {
        "id": "XU7QPJv2RDKh"
      },
      "source": [
        "## **Method validation**"
      ]
    },
    {
      "cell_type": "markdown",
      "metadata": {
        "id": "j5N7HUFHRiIC"
      },
      "source": [
        "For each comment X, I compute the similarity list between X and each other comment Y, then I calculate the rank of the real father of X and at the end I print the Mean Reciprocal Rank (MRR) for each class (Pro and Con)"
      ]
    },
    {
      "cell_type": "code",
      "metadata": {
        "colab": {
          "base_uri": "https://localhost:8080/"
        },
        "id": "aT4WJnSmSMHA",
        "outputId": "59638b10-6f0a-4530-97e3-f83924f1f3b8"
      },
      "source": [
        "tot_rank_pro = 0\n",
        "tot_rank_con = 0\n",
        "nc = 0\n",
        "np = 0\n",
        "father_list = []\n",
        "similarity_list = []\n",
        "\n",
        "for c1 in comments:\n",
        "  if c1 != root:\n",
        "    embedding1 = model.encode(c1.content, convert_to_tensor=True)\n",
        "    comments_list = []\n",
        "    for c2 in comments:\n",
        "      if c1 != c2:\n",
        "        embedding2 = model.encode(c2.content, convert_to_tensor=True)\n",
        "        c2.setSimilarity(util.pytorch_cos_sim(embedding1, embedding2).item())\n",
        "        comments_list.append(c2)\n",
        "\n",
        "    comments_list.sort(key=lambda x: x.similarity, reverse=True)\n",
        "    father = next((x for x in comments_list if x.level == c1.level[:len(c1.level)-2]), None)\n",
        "\n",
        "    if father in comments_list:\n",
        "      rank = 1/(comments_list.index(father)+1)\n",
        "    else:\n",
        "      rank = 0\n",
        "    \n",
        "    if c1.sentiment == \"Pro\":\n",
        "      tot_rank_pro = tot_rank_pro + rank\n",
        "      np = np + 1\n",
        "\n",
        "    if c1.sentiment == \"Con\":\n",
        "      tot_rank_con = tot_rank_con + rank \n",
        "      nc = nc + 1\n",
        "\n",
        "    # to calculate the frequency afterwards\n",
        "    c1.setSimilarity(1)\n",
        "    father_list.append([copy.deepcopy(father), copy.deepcopy(c1)])\n",
        "    similarity_list.append(copy.deepcopy(comments_list))\n",
        "    \n",
        "print(title)\n",
        "print(\"Number of comments:\", len(comments))\n",
        "print(\"MRR for class Pro is\", round(tot_rank_pro/np, 3))\n",
        "print(\"MRR for class Con is\", round(tot_rank_con/nc, 3))"
      ],
      "execution_count": 14,
      "outputs": [
        {
          "output_type": "stream",
          "text": [
            "Discussion Title: PS5 v Xbox Series X/S, what's better?\n",
            "\n",
            "Number of comments: 83\n",
            "MRR for class Pro is 0.542\n",
            "MRR for class Con is 0.245\n"
          ],
          "name": "stdout"
        }
      ]
    },
    {
      "cell_type": "markdown",
      "metadata": {
        "id": "xTdoi9J5spay"
      },
      "source": [
        "The MRR is significantly higher for the Pro class, this is because the similarity between two agreeing comments is reasonably greater."
      ]
    },
    {
      "cell_type": "markdown",
      "metadata": {
        "id": "gR0DxIEHr2VD"
      },
      "source": [
        "I plot the frequency of the father within the list of similarity values as k changes, where k is the number of top k elements that I am going to consider within the list"
      ]
    },
    {
      "cell_type": "code",
      "metadata": {
        "id": "e3Wh0YhUQPDx"
      },
      "source": [
        "k = 1\n",
        "freq_list_pro = []\n",
        "freq_list_con = []\n",
        "while k < len(comments):\n",
        "  freq_pro = 0\n",
        "  freq_con = 0\n",
        "  np = 0\n",
        "  nc = 0\n",
        "  for f, c_list in zip(father_list, similarity_list):\n",
        "    sim_top_k_list = c_list[:k]\n",
        "    if f[1].sentiment == \"Pro\":\n",
        "      if f[0] in sim_top_k_list:\n",
        "        freq_pro = freq_pro + 1\n",
        "      np = np + 1\n",
        "\n",
        "    if f[1].sentiment == \"Con\":\n",
        "      if f[0] in sim_top_k_list:\n",
        "        freq_con = freq_con + 1\n",
        "      nc = nc + 1\n",
        "\n",
        "  freq_list_pro.append(freq_pro/np)\n",
        "  freq_list_con.append(freq_con/nc)\n",
        "  k = k + 1\n",
        "\n",
        "# print(freq_list_pro)\n",
        "# print(freq_list_con)"
      ],
      "execution_count": 15,
      "outputs": []
    },
    {
      "cell_type": "code",
      "metadata": {
        "id": "1-bQ9T6_oxe_",
        "colab": {
          "base_uri": "https://localhost:8080/",
          "height": 357
        },
        "outputId": "1e696f4d-bfca-4d7d-dbd4-0cf2b57fa32d"
      },
      "source": [
        "import matplotlib.pyplot as plt\n",
        "plt.rcParams.update({'font.size': 15})\n",
        "plt.rcParams.update({'figure.figsize': [8,4.5]})\n",
        "plt.plot(range(1, len(comments)), freq_list_pro, label = \"freq with class Pro\")\n",
        "plt.plot(range(1, len(comments)), freq_list_con, label = \"freq with class Con\")\n",
        "plt.xlabel('k')\n",
        "plt.ylabel('freq')\n",
        "plt.title(title[18:])\n",
        "plt.legend()\n",
        "plt.show()"
      ],
      "execution_count": 16,
      "outputs": [
        {
          "output_type": "display_data",
          "data": {
            "image/png": "[encoded data removed]",
            "text/plain": [
              "<Figure size 576x324 with 1 Axes>"
            ]
          },
          "metadata": {
            "needs_background": "light"
          }
        }
      ]
    },
    {
      "cell_type": "markdown",
      "metadata": {
        "id": "-pYv8rBqsOFF"
      },
      "source": [
        "As we expect, as k increases, so does the frequency of the father within the list"
      ]
    },
    {
      "cell_type": "markdown",
      "metadata": {
        "id": "8i4lZ0KM0VxT"
      },
      "source": [
        "We can print some examples of good and bad calssifications for qualitative analysis"
      ]
    },
    {
      "cell_type": "code",
      "metadata": {
        "id": "XfKKrdTIatJP"
      },
      "source": [
        "def print_example(sentiment, k, f, c_list):\n",
        "  if f[1].sentiment == sentiment:\n",
        "    if f[0] in c_list and ((c_list.index(f[0])+1) > len(c_list)/2):\n",
        "      print(\"\\nBad classification for:\", f[1], \"\\nClass:\", sentiment, \"\\nReal father:\", f[0], \"\\nPosition:\", \n",
        "            (c_list.index(f[0])+1), \"\\nTop 3 comments:\")\n",
        "      for c in c_list[:k]:\n",
        "        print(c, end=\"\\n\")\n",
        "\n",
        "    if f[0] in c_list and ((c_list.index(f[0])+1) < k):\n",
        "      print(\"\\nGood classification for:\", f[1], \"\\nClass:\", sentiment, \"\\nReal father:\", f[0], \"\\nPosition:\", \n",
        "            (c_list.index(f[0])+1), \"\\nTop 3 comments:\")\n",
        "      for c in c_list[:k]:\n",
        "        print(c, end=\"\\n\")\n"
      ],
      "execution_count": 17,
      "outputs": []
    },
    {
      "cell_type": "code",
      "metadata": {
        "id": "b8eRbKHLXfy0"
      },
      "source": [
        "k = 3\n",
        "#for f, c_list in zip(father_list, similarity_list):\n",
        "  #print_example(\"Pro\", k, f, c_list)\n",
        "  #print_example(\"Con\", k, f, c_list)\n"
      ],
      "execution_count": 19,
      "outputs": []
    },
    {
      "cell_type": "markdown",
      "metadata": {
        "id": "wAPlHo12tBIp"
      },
      "source": [
        "**Conclusion**"
      ]
    },
    {
      "cell_type": "markdown",
      "metadata": {
        "id": "TT62EFGJtECW"
      },
      "source": [
        "The method adopted seems to work fairly well. With good approximation we can\n",
        "say that the best comment to answer is found in the first positions of the\n",
        "list. In particular the method\n",
        "gives better results when the comment is concordant with that of the father, but this is also\n",
        "plausible since the semantic similarity between two concordant comments is obviously greater.\n",
        "The qualitative evaluation tells us that, although bad ratings are present,\n",
        "among the first three results in the list there is still a comment relevant to the one considered.\n",
        "The problem of bad classifications occurs when there are many comments with similar semantic content or with identical words (even if used in different contexts)."
      ]
    }
  ]
}