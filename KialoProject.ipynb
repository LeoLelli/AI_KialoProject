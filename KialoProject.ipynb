{
  "nbformat": 4,
  "nbformat_minor": 0,
  "metadata": {
    "colab": {
      "name": "KialoProject.ipynb",
      "provenance": [],
      "collapsed_sections": [],
      "authorship_tag": "ABX9TyPKHPS3yd3IWm8w/YLSxu6s",
      "include_colab_link": true
    },
    "kernelspec": {
      "name": "python3",
      "display_name": "Python 3"
    },
    "language_info": {
      "name": "python"
    }
  },
  "cells": [
    {
      "cell_type": "markdown",
      "metadata": {
        "id": "view-in-github",
        "colab_type": "text"
      },
      "source": [
        "<a href=\"https://colab.research.google.com/github/LeoLelli/AI_KialoProject/blob/main/KialoProject.ipynb\" target=\"_parent\"><img src=\"https://colab.research.google.com/assets/colab-badge.svg\" alt=\"Open In Colab\"/></a>"
      ]
    },
    {
      "cell_type": "markdown",
      "metadata": {
        "id": "PO2dpTXlKjiU"
      },
      "source": [
        "# **Kialo Project**\n",
        "\n",
        "---\n",
        "\n"
      ]
    },
    {
      "cell_type": "markdown",
      "metadata": {
        "id": "H0JgD6atKZ2r"
      },
      "source": [
        "**Goal**: to help a user to join a Kialo discussion\n",
        "\n",
        "**Approach**: analyze all comments and provide the user with the one with the highest semantic similarity to the user's comment"
      ]
    },
    {
      "cell_type": "markdown",
      "metadata": {
        "id": "_j0j6-nZLQn7"
      },
      "source": [
        "I use a transformer to do embedding of comments and then cosin similarity to calculate their similarity score. The similarity score indicates whether two texts have similar or more different meanings. "
      ]
    },
    {
      "cell_type": "code",
      "metadata": {
        "id": "YCkA3QaCpFZh"
      },
      "source": [
        "#!pip install sentence-transformers\n",
        "#import\n",
        "import re\n",
        "import sys\n",
        "from sentence_transformers import SentenceTransformer, util\n",
        "import numpy as np\n",
        " \n",
        "%matplotlib inline\n",
        "input_file = \"ps5-v-xbox-series-xs-whats-better-48036.txt\"\n",
        "\n",
        "# pre-trained transformers: https://docs.google.com/spreadsheets/d/14QplCdTCDwEmTqrn1LH4yrbKvdogK4oQvYO1K1aPR5M/edit#gid=0\n",
        "model = SentenceTransformer('stsb-distilroberta-base-v2')"
      ],
      "execution_count": null,
      "outputs": []
    },
    {
      "cell_type": "code",
      "metadata": {
        "id": "nMrG1igavISJ"
      },
      "source": [
        "class Comment:\n",
        "  def __init__(self, level, content, sentiment):\n",
        "    self.level = level\n",
        "    self.content = content\n",
        "    self.sentiment = sentiment\n",
        "    self.similarity = 0\n",
        "\n",
        "  def __str__(self):\n",
        "        return self.level + \" \" + self.content +\" \"+ \"[\"+self.sentiment+\"]\" + \" sim:\" + str(self.similarity)\n",
        "  \n",
        "  def setSimilarity(self, similarity):\n",
        "        self.similarity = similarity\n",
        "\n",
        "  def __eq__(self, other):\n",
        "    if (isinstance(other, Comment)):\n",
        "      return self.level == other.level"
      ],
      "execution_count": null,
      "outputs": []
    },
    {
      "cell_type": "code",
      "metadata": {
        "id": "gBqyAPMwrQPb"
      },
      "source": [
        "with open(input_file, 'r') as in_f:\n",
        "    lines = []\n",
        "    for line in in_f:\n",
        "        lines.append(line)\n",
        "\n",
        "title = lines[0];\n",
        "del lines[0:2]\n",
        "comments = []\n",
        "\n",
        "# split tree level from content\n",
        "for line in lines:\n",
        "  splitted_sentence = line.split('. ', 1)\n",
        "  level = splitted_sentence[0]\n",
        "  content = splitted_sentence[1]\n",
        "\n",
        "  # separate Pro or Con from the actual comment\n",
        "  sentiment = \"Neutral\"\n",
        "  if \"Pro:\" in content or \"Con: \" in content:\n",
        "    sentiment = content[0:3]\n",
        "    content = content[5:]\n",
        "\n",
        "  # delete links in the content\n",
        "  content = re.sub(r'http\\S+', '', content)\n",
        "  # delete () and []\n",
        "  content = content.replace('[','').replace(']','').replace('(','').replace(')','').replace('\\n',\"\")\n",
        "\n",
        "  c = Comment(level, content, sentiment)\n",
        "  comments.append(c)\n",
        "\n",
        "root = comments[0]"
      ],
      "execution_count": null,
      "outputs": []
    },
    {
      "cell_type": "markdown",
      "metadata": {
        "id": "0-D_bMqJMttT"
      },
      "source": [
        "Encoding of user comment and comments in discussion txt file + loop to calculate cos similarity"
      ]
    },
    {
      "cell_type": "code",
      "metadata": {
        "colab": {
          "base_uri": "https://localhost:8080/"
        },
        "id": "9JVvHoEEC6uU",
        "outputId": "7ed61372-f6d5-4c0a-88b9-85c4e9790cd6"
      },
      "source": [
        "user_comment = \"The PS5 is better because it has many more games and is used by more people.\"\n",
        "embedding2 = model.encode(user_comment, convert_to_tensor=True)\n",
        "\n",
        "for c in comments:\n",
        "  embedding1 = model.encode(c.content, convert_to_tensor=True)\n",
        "  c.setSimilarity(util.pytorch_cos_sim(embedding1, embedding2).item())\n",
        "\n",
        "comments.sort(key=lambda x: x.similarity, reverse=True)\n",
        "\n",
        "k = 3 # number of comments PRO and CON\n",
        "print(\"You should answer to one of these comments:\\n\")\n",
        "\n",
        "for c in comments[:k]:\n",
        "  print(c, end=\"\\n\")\n",
        "\n",
        "#print(\"similarity\", comments[0].similarity)\n"
      ],
      "execution_count": null,
      "outputs": [
        {
          "output_type": "stream",
          "text": [
            "You should answer to one of these comments:\n",
            "\n",
            "1.4 The PS5 has a better lineup of games that will be released in the future. [Con] sim:0.7782171368598938\n",
            "1.3.1 The PS5 offers more exclusive games than the Series X/S. [Con] sim:0.775642454624176\n",
            "1.1.2 This might indicate that the PS5 is worth more since it is a better console. [Con] sim:0.7517738938331604\n"
          ],
          "name": "stdout"
        }
      ]
    },
    {
      "cell_type": "markdown",
      "metadata": {
        "id": "XU7QPJv2RDKh"
      },
      "source": [
        "## **Method validation**"
      ]
    },
    {
      "cell_type": "markdown",
      "metadata": {
        "id": "j5N7HUFHRiIC"
      },
      "source": [
        "For each comment X, I compute the similarity list between X and each other comment Y, then I calculate the rank of the real father of X and at the end I print the Mean Reciprocal Rank (MRR) for each class (Pro and Con)"
      ]
    },
    {
      "cell_type": "code",
      "metadata": {
        "colab": {
          "base_uri": "https://localhost:8080/"
        },
        "id": "aT4WJnSmSMHA",
        "outputId": "e1e8c85f-1c47-42db-e362-118fe36e682b"
      },
      "source": [
        "tot_rank_pro = 0\n",
        "tot_rank_con = 0\n",
        "nc = 0\n",
        "np = 0\n",
        "father_list = []\n",
        "similarity_list = []\n",
        "for c1 in comments:\n",
        "  if c1 != root:\n",
        "    embedding1 = model.encode(c1.content, convert_to_tensor=True)\n",
        "    comments_list = []\n",
        "    for c2 in comments:\n",
        "      if c1 != c2:\n",
        "        embedding2 = model.encode(c2.content, convert_to_tensor=True)\n",
        "        c2.setSimilarity(util.pytorch_cos_sim(embedding1, embedding2).item())\n",
        "        comments_list.append(c2)\n",
        "\n",
        "    comments_list.sort(key=lambda x: x.similarity, reverse=True)\n",
        "    father = next((x for x in comments_list if x.level == c1.level[:len(c1.level)-2]), None)\n",
        "\n",
        "    father_list.append([father, c1.sentiment])\n",
        "    similarity_list.append(comments_list)\n",
        "\n",
        "    if father in comments_list:\n",
        "      rank = 1/(comments_list.index(father)+1)\n",
        "    else:\n",
        "      rank = 0\n",
        "    \n",
        "    if c1.sentiment == \"Pro\":\n",
        "      tot_rank_pro = tot_rank_pro + rank\n",
        "      np = np + 1\n",
        "    if c1.sentiment == \"Con\":\n",
        "      tot_rank_con = tot_rank_con + rank \n",
        "      nc = nc + 1\n",
        "\n",
        "print(\"MRR for class Pro is \", tot_rank_pro/np)\n",
        "print(\"MRR for class Con is \", tot_rank_con/nc)"
      ],
      "execution_count": null,
      "outputs": [
        {
          "output_type": "stream",
          "text": [
            "MRR for class Pro is  0.5416574958563666\n",
            "MRR for class Con is  0.24525365990246423\n"
          ],
          "name": "stdout"
        }
      ]
    },
    {
      "cell_type": "markdown",
      "metadata": {
        "id": "xTdoi9J5spay"
      },
      "source": [
        "The MRR is significantly higher for the Pro class, this is because the similarity between two agreeing comments is reasonably greater."
      ]
    },
    {
      "cell_type": "markdown",
      "metadata": {
        "id": "gR0DxIEHr2VD"
      },
      "source": [
        "I plot the frequency of the father within the list of similarity values as k changes, where k is the number of top k elements that I am going to consider within the list"
      ]
    },
    {
      "cell_type": "code",
      "metadata": {
        "id": "e3Wh0YhUQPDx"
      },
      "source": [
        "k = 1\n",
        "max = 100\n",
        "freq_list_pro = []\n",
        "freq_list_con = []\n",
        "while k < max:\n",
        "  freq_pro = 0\n",
        "  freq_con = 0\n",
        "  np = 0\n",
        "  nc = 0\n",
        "  for f, c_list in zip(father_list, similarity_list):\n",
        "    sim_top_k_list = c_list[:k]\n",
        "    if f[1] == \"Pro\":\n",
        "      if f[0] in sim_top_k_list:\n",
        "        freq_pro = freq_pro + 1\n",
        "      np = np + 1\n",
        "\n",
        "    if f[1] == \"Con\":\n",
        "      if f[0] in sim_top_k_list:\n",
        "        freq_con = freq_con + 1\n",
        "      nc = nc + 1\n",
        "\n",
        "  freq_list_pro.append(freq_pro/np)\n",
        "  freq_list_con.append(freq_con/nc)\n",
        "  k = k + 1\n",
        "\n",
        "# print(freq_list_pro)\n",
        "# print(freq_list_con)"
      ],
      "execution_count": null,
      "outputs": []
    },
    {
      "cell_type": "code",
      "metadata": {
        "colab": {
          "base_uri": "https://localhost:8080/",
          "height": 295
        },
        "id": "1-bQ9T6_oxe_",
        "outputId": "a3291227-f67e-4357-dfa0-5e921347f692"
      },
      "source": [
        "import matplotlib.pyplot as plt\n",
        "plt.plot(range(1, max), freq_list_pro, label = \"freq with class Pro\")\n",
        "plt.plot(range(1, max), freq_list_con, label = \"freq with class Con\")\n",
        "plt.xlabel('k')\n",
        "plt.ylabel('freq')\n",
        "plt.title('Frequency as a function of k')\n",
        "plt.legend()\n",
        "plt.show()"
      ],
      "execution_count": null,
      "outputs": [
        {
          "output_type": "display_data",
          "data": {
            "image/png": "[encoded data removed]",
            "text/plain": [
              "<Figure size 432x288 with 1 Axes>"
            ]
          },
          "metadata": {
            "needs_background": "light"
          }
        }
      ]
    },
    {
      "cell_type": "markdown",
      "metadata": {
        "id": "-pYv8rBqsOFF"
      },
      "source": [
        "As we expect, as k increases, so does the frequency of the parent within the list"
      ]
    },
    {
      "cell_type": "markdown",
      "metadata": {
        "id": "wAPlHo12tBIp"
      },
      "source": [
        "**Conclusion**"
      ]
    },
    {
      "cell_type": "markdown",
      "metadata": {
        "id": "TT62EFGJtECW"
      },
      "source": [
        "The similarity method seems to work well if the user wants to respond to a comment they agree with (MRR indicates that on average the best comment to respond to is in the top 2 positions) while it works less well if the user's comment disagrees with the one they want to respond to.\n",
        "\n",
        "The frequency graph also confirms this."
      ]
    }
  ]
}