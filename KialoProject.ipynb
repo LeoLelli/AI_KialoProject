{
  "nbformat": 4,
  "nbformat_minor": 0,
  "metadata": {
    "colab": {
      "name": "KialoProject.ipynb",
      "provenance": [],
      "collapsed_sections": [],
      "authorship_tag": "ABX9TyPv3UqMexpVkSb0P22l7B7R",
      "include_colab_link": true
    },
    "kernelspec": {
      "name": "python3",
      "display_name": "Python 3"
    },
    "language_info": {
      "name": "python"
    }
  },
  "cells": [
    {
      "cell_type": "markdown",
      "metadata": {
        "id": "view-in-github",
        "colab_type": "text"
      },
      "source": [
        "<a href=\"https://colab.research.google.com/github/LeoLelli/AI_KialoProject/blob/main/KialoProject.ipynb\" target=\"_parent\"><img src=\"https://colab.research.google.com/assets/colab-badge.svg\" alt=\"Open In Colab\"/></a>"
      ]
    },
    {
      "cell_type": "code",
      "metadata": {
        "id": "YCkA3QaCpFZh"
      },
      "source": [
        "#import\n",
        "import pandas as pd\n",
        "import numpy as np\n",
        "import seaborn as sns\n",
        "import matplotlib.pyplot as plt\n",
        "import re\n",
        "from sklearn.model_selection import train_test_split\n",
        "from sklearn.tree import DecisionTreeClassifier\n",
        "from sklearn.metrics import accuracy_score\n",
        "%matplotlib inline\n",
        "#input_file = \"ps5-v-xbox-series-xs-whats-better-48036.txt\"\n",
        "input_file = \"should-all-drugs-be-legalised-7100.txt\""
      ],
      "execution_count": 29,
      "outputs": []
    },
    {
      "cell_type": "code",
      "metadata": {
        "id": "nMrG1igavISJ"
      },
      "source": [
        "class Comment:\n",
        "  def __init__(self, level, content):\n",
        "    self.level = level\n",
        "    self.content = content\n",
        "  \n",
        "  def __str__(self):\n",
        "        return self.level + \" \" + self.content\n",
        "  \n",
        "  def setSimilarity(self, similarity):\n",
        "        self.similarity = similarity"
      ],
      "execution_count": 30,
      "outputs": []
    },
    {
      "cell_type": "code",
      "metadata": {
        "colab": {
          "base_uri": "https://localhost:8080/"
        },
        "id": "gBqyAPMwrQPb",
        "outputId": "2373d111-5dc0-405c-f7ef-85153f88d588"
      },
      "source": [
        "with open(input_file, 'r') as input:\n",
        "    lines = []\n",
        "    for line in input:\n",
        "        lines.append(line)\n",
        "\n",
        "title = lines[0];\n",
        "del lines[0:2]\n",
        "comments = []\n",
        "for line in lines:\n",
        "  splitted_sentence = line.split('. ', 1)\n",
        "  level = splitted_sentence[0]\n",
        "  content = splitted_sentence[1]\n",
        "  # delete links in the content\n",
        "  content = re.sub(r'http\\S+', '', content)\n",
        "  c = Comment(level, content)\n",
        "  comments.append(c)\n",
        "#print(lines)\n",
        "\n",
        "print(comments[0].content)"
      ],
      "execution_count": 31,
      "outputs": [
        {
          "output_type": "stream",
          "text": [
            "All [drugs]( should be legalised.\n",
            "\n"
          ],
          "name": "stdout"
        }
      ]
    },
    {
      "cell_type": "code",
      "metadata": {
        "colab": {
          "base_uri": "https://localhost:8080/"
        },
        "id": "_4XG1HIiZ5EI",
        "outputId": "9d6d7b14-99a0-43b2-f014-4da43d382120"
      },
      "source": [
        "from gensim import corpora\n",
        "import gensim.downloader as api\n",
        "from gensim.utils import simple_preprocess\n",
        "from gensim.matutils import softcossim\n",
        "corpus = []\n",
        "\n",
        "for c in comments:\n",
        "  corpus.append(c.content)\n",
        "\n",
        "dictionary = corpora.Dictionary([simple_preprocess(doc) for doc in corpus])\n",
        "glove = api.load(\"glove-wiki-gigaword-50\")\n",
        "sim_matrix = glove.similarity_matrix(dictionary=dictionary)\n",
        "\n",
        "#user input\n",
        "#input = \"Con: I think PS5 is better than XboX because there are more games avaliable and so also more players.\"\n",
        "input = \"Pro: Each individual should be able to decide for themselves what is bad for them and what is not, and whether to take risks in taking it. However, there should also be centers to help people stop using drugs, just as there are with cigarettes.\"\n",
        "sent_2 = dictionary.doc2bow(simple_preprocess(input))\n",
        "\n",
        "for c in comments:\n",
        "  sent_1 = dictionary.doc2bow(simple_preprocess(c.content))\n",
        "  c.setSimilarity(softcossim(sent_1, sent_2, sim_matrix))\n",
        "#print(f\"Soft Cosine Similarity: {softcossim(sent_1, sent_2, sim_matrix)}\")\n",
        "\n",
        "comments.sort(key=lambda x: x.similarity, reverse=True)\n",
        "\n",
        "print(comments[0])"
      ],
      "execution_count": 32,
      "outputs": [
        {
          "output_type": "stream",
          "text": [
            "1.3.1.2.3.4.1.2.2.1 Pro: Cigarettes are filled with [dangerous substances]( which are legal, like tar. It is likely that companies will seek to do the same.\n",
            "\n"
          ],
          "name": "stdout"
        }
      ]
    }
  ]
}